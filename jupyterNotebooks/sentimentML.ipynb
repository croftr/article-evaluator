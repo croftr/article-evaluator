{
 "cells": [
  {
   "cell_type": "code",
   "execution_count": 85,
   "metadata": {},
   "outputs": [],
   "source": [
    "# Copyright 2020 The TensorFlow Authors. All Rights Reserved.\n",
    "#\n",
    "# Licensed under the Apache License, Version 2.0 (the \"License\");\n",
    "# you may not use this file except in compliance with the License.\n",
    "# You may obtain a copy of the License at\n",
    "#\n",
    "#     http://www.apache.org/licenses/LICENSE-2.0\n",
    "#\n",
    "# Unless required by applicable law or agreed to in writing, software\n",
    "# distributed under the License is distributed on an \"AS IS\" BASIS,\n",
    "# WITHOUT WARRANTIES OR CONDITIONS OF ANY KIND, either express or implied.\n",
    "# See the License for the specific language governing permissions and\n",
    "# limitations under the License.\n",
    "# ==============================================================================\n",
    "\"\"\"Keras text dataset generation utilities.\"\"\"\n",
    "from __future__ import absolute_import\n",
    "from __future__ import division\n",
    "from __future__ import print_function\n",
    "\n",
    "import numpy as np\n",
    "\n",
    "\n",
    "from tensorflow.python.data.ops import dataset_ops\n",
    "from tensorflow.python.keras.preprocessing import dataset_utils\n",
    "from tensorflow.python.ops import io_ops\n",
    "from tensorflow.python.ops import string_ops\n",
    "from tensorflow.python.util.tf_export import keras_export\n",
    "\n",
    "directory=r\"C:/Users/thinb/Desktop/article-evaluator/results/train\"\n",
    "\n",
    "\n",
    "@keras_export('keras.preprocessing.text_dataset_from_directory', v1=[])\n",
    "def text_dataset_from_directory(directory,\n",
    "                                labels='inferred',\n",
    "                                label_mode='binary',\n",
    "                                class_names=None,\n",
    "                                batch_size=32,\n",
    "                                max_length=None,\n",
    "                                shuffle=False,\n",
    "                                seed=None,\n",
    "                                validation_split=0.2,\n",
    "                                subset='validation',\n",
    "                                follow_links=False):\n",
    "  \"\"\"Generates a `tf.data.Dataset` from text files in a directory.\n",
    "\n",
    "  If your directory structure is:\n",
    "\n",
    "  ```\n",
    "  main_directory/\n",
    "  ...class_a/\n",
    "  ......a_text_1.txt\n",
    "  ......a_text_2.txt\n",
    "  ...class_b/\n",
    "  ......b_text_1.txt\n",
    "  ......b_text_2.txt\n",
    "  ```\n",
    "\n",
    "  Then calling `text_dataset_from_directory(main_directory, labels='inferred')`\n",
    "  will return a `tf.data.Dataset` that yields batches of texts from\n",
    "  the subdirectories `class_a` and `class_b`, together with labels\n",
    "  0 and 1 (0 corresponding to `class_a` and 1 corresponding to `class_b`).\n",
    "\n",
    "  Only `.txt` files are supported at this time.\n",
    "\n",
    "  Arguments:\n",
    "    directory: Directory where the data is located.\n",
    "        If `labels` is \"inferred\", it should contain\n",
    "        subdirectories, each containing text files for a class.\n",
    "        Otherwise, the directory structure is ignored.\n",
    "    labels: Either \"inferred\"\n",
    "        (labels are generated from the directory structure),\n",
    "        or a list/tuple of integer labels of the same size as the number of\n",
    "        text files found in the directory. Labels should be sorted according\n",
    "        to the alphanumeric order of the text file paths\n",
    "        (obtained via `os.walk(directory)` in Python).\n",
    "    label_mode:\n",
    "        - 'int': means that the labels are encoded as integers\n",
    "            (e.g. for `sparse_categorical_crossentropy` loss).\n",
    "        - 'categorical' means that the labels are\n",
    "            encoded as a categorical vector\n",
    "            (e.g. for `categorical_crossentropy` loss).\n",
    "        - 'binary' means that the labels (there can be only 2)\n",
    "            are encoded as `float32` scalars with values 0 or 1\n",
    "            (e.g. for `binary_crossentropy`).\n",
    "        - None (no labels).\n",
    "    class_names: Only valid if \"labels\" is \"inferred\". This is the explict\n",
    "        list of class names (must match names of subdirectories). Used\n",
    "        to control the order of the classes\n",
    "        (otherwise alphanumerical order is used).\n",
    "    batch_size: Size of the batches of data. Default: 32.\n",
    "    max_length: Maximum size of a text string. Texts longer than this will\n",
    "      be truncated to `max_length`.\n",
    "    shuffle: Whether to shuffle the data. Default: True.\n",
    "        If set to False, sorts the data in alphanumeric order.\n",
    "    seed: Optional random seed for shuffling and transformations.\n",
    "    validation_split: Optional float between 0 and 1,\n",
    "        fraction of data to reserve for validation.\n",
    "    subset: One of \"training\" or \"validation\".\n",
    "        Only used if `validation_split` is set.\n",
    "    follow_links: Whether to visits subdirectories pointed to by symlinks.\n",
    "        Defaults to False.\n",
    "\n",
    "  Returns:\n",
    "    A `tf.data.Dataset` object.\n",
    "      - If `label_mode` is None, it yields `string` tensors of shape\n",
    "        `(batch_size,)`, containing the contents of a batch of text files.\n",
    "      - Otherwise, it yields a tuple `(texts, labels)`, where `texts`\n",
    "        has shape `(batch_size,)` and `labels` follows the format described\n",
    "        below.\n",
    "\n",
    "  Rules regarding labels format:\n",
    "    - if `label_mode` is `int`, the labels are an `int32` tensor of shape\n",
    "      `(batch_size,)`.\n",
    "    - if `label_mode` is `binary`, the labels are a `float32` tensor of\n",
    "      1s and 0s of shape `(batch_size, 1)`.\n",
    "    - if `label_mode` is `categorial`, the labels are a `float32` tensor\n",
    "      of shape `(batch_size, num_classes)`, representing a one-hot\n",
    "      encoding of the class index.\n",
    "  \"\"\"\n",
    "  if labels != 'inferred':\n",
    "    if not isinstance(labels, (list, tuple)):\n",
    "      raise ValueError(\n",
    "          '`labels` argument should be a list/tuple of integer labels, of '\n",
    "          'the same size as the number of text files in the target '\n",
    "          'directory. If you wish to infer the labels from the subdirectory '\n",
    "          'names in the target directory, pass `labels=\"inferred\"`. '\n",
    "          'If you wish to get a dataset that only contains text samples '\n",
    "          '(no labels), pass `labels=None`.')\n",
    "    if class_names:\n",
    "      raise ValueError('You can only pass `class_names` if the labels are '\n",
    "                       'inferred from the subdirectory names in the target '\n",
    "                       'directory (`labels=\"inferred\"`).')\n",
    "  if label_mode not in {'int', 'categorical', 'binary', None}:\n",
    "    raise ValueError(\n",
    "        '`label_mode` argument must be one of \"int\", \"categorical\", \"binary\", '\n",
    "        'or None. Received: %s' % (label_mode,))\n",
    "  dataset_utils.check_validation_split_arg(\n",
    "      validation_split, subset, shuffle, seed)\n",
    "\n",
    "  if seed is None:\n",
    "    seed = np.random.randint(1e6)\n",
    "  file_paths, labels, class_names = dataset_utils.index_directory(\n",
    "      directory,\n",
    "      labels,\n",
    "      formats=('.txt',),\n",
    "      class_names=class_names,\n",
    "      shuffle=shuffle,\n",
    "      seed=seed,\n",
    "      follow_links=follow_links)\n",
    "\n",
    "  if label_mode == 'binary' and len(class_names) != 2:\n",
    "    raise ValueError(\n",
    "        'When passing `label_mode=\"binary\", there must exactly 2 classes. '\n",
    "        'Found the following classes: %s' % (class_names,))\n",
    "\n",
    "  file_paths, labels = dataset_utils.get_training_or_validation_split(\n",
    "      file_paths, labels, validation_split, subset)\n",
    "\n",
    "  dataset = paths_and_labels_to_dataset(\n",
    "      file_paths=file_paths,\n",
    "      labels=labels,\n",
    "      label_mode=label_mode,\n",
    "      num_classes=len(class_names),\n",
    "      max_length=max_length)\n",
    "  if shuffle:\n",
    "    # Shuffle locally at each iteration\n",
    "    dataset = dataset.shuffle(buffer_size=batch_size * 8, seed=seed)\n",
    "  dataset = dataset.batch(batch_size)\n",
    "  # Users may need to reference `class_names`.\n",
    "  dataset.class_names = class_names\n",
    "  return dataset\n",
    "\n",
    "\n",
    "def paths_and_labels_to_dataset(file_paths,\n",
    "                                labels,\n",
    "                                label_mode,\n",
    "                                num_classes,\n",
    "                                max_length):\n",
    "  \"\"\"Constructs a dataset of text strings and labels.\"\"\"\n",
    "  path_ds = dataset_ops.Dataset.from_tensor_slices(file_paths)\n",
    "  string_ds = path_ds.map(\n",
    "      lambda x: path_to_string_content(x, max_length))\n",
    "  if label_mode:\n",
    "    label_ds = dataset_utils.labels_to_dataset(labels, label_mode, num_classes)\n",
    "    string_ds = dataset_ops.Dataset.zip((string_ds, label_ds))\n",
    "  return string_ds\n",
    "\n",
    "\n",
    "def path_to_string_content(path, max_length):\n",
    "  txt = io_ops.read_file(path)\n",
    "  if max_length is not None:\n",
    "    txt = string_ops.substr(txt, 0, max_length)\n",
    "  return txt"
   ]
  },
  {
   "cell_type": "code",
   "execution_count": 86,
   "metadata": {},
   "outputs": [
    {
     "output_type": "stream",
     "name": "stdout",
     "text": [
      "Found 8082 files belonging to 2 classes.\nUsing 1616 files for validation.\n"
     ]
    }
   ],
   "source": [
    "data = text_dataset_from_directory(directory, labels='inferred')"
   ]
  },
  {
   "cell_type": "code",
   "execution_count": 87,
   "metadata": {},
   "outputs": [],
   "source": [
    "# Example from here: https://www.tensorflow.org/tutorials/load_data/text"
   ]
  },
  {
   "cell_type": "code",
   "execution_count": 88,
   "metadata": {},
   "outputs": [
    {
     "output_type": "stream",
     "name": "stdout",
     "text": [
      "Found 8082 files belonging to 2 classes.\nUsing 6466 files for training.\n"
     ]
    }
   ],
   "source": [
    "import collections\n",
    "import pathlib\n",
    "import re\n",
    "import string\n",
    "\n",
    "import tensorflow as tf\n",
    "\n",
    "from tensorflow.keras import layers\n",
    "from tensorflow.keras import losses\n",
    "from tensorflow.keras import preprocessing\n",
    "from tensorflow.keras import utils\n",
    "from tensorflow.keras.layers.experimental.preprocessing import TextVectorization\n",
    "\n",
    "import tensorflow_datasets as tfds\n",
    "\n",
    "batch_size = 32\n",
    "seed = 42\n",
    "\n",
    "raw_train_ds = preprocessing.text_dataset_from_directory(\n",
    "    directory,\n",
    "    batch_size=batch_size,\n",
    "    validation_split=0.2,\n",
    "    subset='training',\n",
    "    seed=seed)"
   ]
  },
  {
   "cell_type": "code",
   "execution_count": 89,
   "metadata": {},
   "outputs": [],
   "source": [
    "#pip install https://storage.googleapis.com/tensorflow/mac/cpu/tensorflow-1.8.0-py3-none-any.whl"
   ]
  },
  {
   "cell_type": "code",
   "execution_count": 90,
   "metadata": {},
   "outputs": [
    {
     "output_type": "stream",
     "name": "stdout",
     "text": [
      "Found 8082 files belonging to 2 classes.\nUsing 1616 files for validation.\n"
     ]
    }
   ],
   "source": [
    "raw_val_ds = preprocessing.text_dataset_from_directory(\n",
    "    directory,\n",
    "    batch_size=batch_size,\n",
    "    validation_split=0.2,\n",
    "    subset='validation',\n",
    "    seed=seed)"
   ]
  },
  {
   "cell_type": "code",
   "execution_count": 91,
   "metadata": {},
   "outputs": [
    {
     "output_type": "stream",
     "name": "stdout",
     "text": [
      "Found 8082 files belonging to 2 classes.\n"
     ]
    }
   ],
   "source": [
    "test_dir = directory\n",
    "raw_test_ds = preprocessing.text_dataset_from_directory(\n",
    "    test_dir, batch_size=batch_size)"
   ]
  },
  {
   "cell_type": "code",
   "execution_count": 92,
   "metadata": {},
   "outputs": [],
   "source": [
    "VOCAB_SIZE = 10000\n",
    "\n",
    "binary_vectorize_layer = TextVectorization(\n",
    "    max_tokens=VOCAB_SIZE,\n",
    "    output_mode='binary')"
   ]
  },
  {
   "cell_type": "code",
   "execution_count": 93,
   "metadata": {},
   "outputs": [],
   "source": [
    "MAX_SEQUENCE_LENGTH = 30\n",
    "\n",
    "int_vectorize_layer = TextVectorization(\n",
    "    max_tokens=VOCAB_SIZE,\n",
    "    output_mode='int',\n",
    "    output_sequence_length=MAX_SEQUENCE_LENGTH)"
   ]
  },
  {
   "cell_type": "code",
   "execution_count": 94,
   "metadata": {},
   "outputs": [],
   "source": [
    "# Make a text-only dataset (without labels), then call adapt\n",
    "train_text = raw_train_ds.map(lambda text, labels: text)\n",
    "binary_vectorize_layer.adapt(train_text)\n",
    "int_vectorize_layer.adapt(train_text)"
   ]
  },
  {
   "cell_type": "code",
   "execution_count": 95,
   "metadata": {},
   "outputs": [],
   "source": [
    "def int_vectorize_text(text, label):\n",
    "  text = tf.expand_dims(text, -1)\n",
    "  return int_vectorize_layer(text), label"
   ]
  },
  {
   "cell_type": "code",
   "execution_count": 96,
   "metadata": {},
   "outputs": [],
   "source": [
    "def binary_vectorize_text(text, label):\n",
    "  text = tf.expand_dims(text, -1)\n",
    "  return binary_vectorize_layer(text), label"
   ]
  },
  {
   "cell_type": "code",
   "execution_count": 97,
   "metadata": {},
   "outputs": [
    {
     "output_type": "stream",
     "name": "stdout",
     "text": [
      "Review tf.Tensor(b'A sun-drenched masterpiece, part parlor game, part psychological case study, part droll social satire.', shape=(), dtype=string)\nLabel tf.Tensor(1, shape=(), dtype=int32)\n"
     ]
    }
   ],
   "source": [
    "# Retrieve a batch (of 32 reviews and labels) from the dataset\n",
    "text_batch, label_batch = next(iter(raw_train_ds))\n",
    "first_question, first_label = text_batch[0], label_batch[0]\n",
    "print(\"Review\", first_question)\n",
    "print(\"Label\", first_label)"
   ]
  },
  {
   "cell_type": "code",
   "execution_count": 98,
   "metadata": {},
   "outputs": [
    {
     "output_type": "stream",
     "name": "stdout",
     "text": [
      "'binary' vectorized question: tf.Tensor([[1. 0. 1. ... 0. 0. 0.]], shape=(1, 10000), dtype=float32)\n"
     ]
    }
   ],
   "source": [
    "print(\"'binary' vectorized question:\", \n",
    "      binary_vectorize_text(first_question, first_label)[0])"
   ]
  },
  {
   "cell_type": "code",
   "execution_count": 99,
   "metadata": {},
   "outputs": [
    {
     "output_type": "stream",
     "name": "stdout",
     "text": [
      "'int' vectorized question: tf.Tensor(\n[[   3 8704  685  215    1  539  215  555  569  369  215 2100  581  642\n     0    0    0    0    0    0    0    0    0    0    0    0    0    0\n     0    0]], shape=(1, 30), dtype=int64)\n"
     ]
    }
   ],
   "source": [
    "print(\"'int' vectorized question:\",\n",
    "      int_vectorize_text(first_question, first_label)[0])"
   ]
  },
  {
   "cell_type": "code",
   "execution_count": 100,
   "metadata": {},
   "outputs": [
    {
     "output_type": "stream",
     "name": "stdout",
     "text": [
      "338 --->  especially\n299 --->  under\nVocabulary size: 10000\n"
     ]
    }
   ],
   "source": [
    "print(\"338 ---> \", int_vectorize_layer.get_vocabulary()[338])\n",
    "print(\"299 ---> \", int_vectorize_layer.get_vocabulary()[299])\n",
    "print(\"Vocabulary size: {}\".format(len(int_vectorize_layer.get_vocabulary())))"
   ]
  },
  {
   "cell_type": "code",
   "execution_count": 101,
   "metadata": {},
   "outputs": [],
   "source": [
    "AUTOTUNE = tf.data.experimental.AUTOTUNE\n",
    "\n",
    "def configure_dataset(dataset):\n",
    "  return dataset.cache().prefetch(buffer_size=AUTOTUNE)"
   ]
  },
  {
   "cell_type": "code",
   "execution_count": 102,
   "metadata": {},
   "outputs": [],
   "source": [
    "binary_train_ds = raw_train_ds.map(binary_vectorize_text)\n",
    "binary_val_ds = raw_val_ds.map(binary_vectorize_text)\n",
    "binary_test_ds = raw_test_ds.map(binary_vectorize_text)\n",
    "\n",
    "int_train_ds = raw_train_ds.map(int_vectorize_text)\n",
    "int_val_ds = raw_val_ds.map(int_vectorize_text)\n",
    "int_test_ds = raw_test_ds.map(int_vectorize_text)"
   ]
  },
  {
   "cell_type": "code",
   "execution_count": 103,
   "metadata": {},
   "outputs": [
    {
     "output_type": "stream",
     "name": "stdout",
     "text": [
      "Epoch 1/10\n",
      "203/203 [==============================] - 5s 21ms/step - loss: 1.0992 - accuracy: 0.6029 - val_loss: 0.7110 - val_accuracy: 0.6850\n",
      "Epoch 2/10\n",
      "203/203 [==============================] - 4s 18ms/step - loss: 0.6671 - accuracy: 0.7030 - val_loss: 0.6056 - val_accuracy: 0.7450\n",
      "Epoch 3/10\n",
      "203/203 [==============================] - 4s 18ms/step - loss: 0.5483 - accuracy: 0.7981 - val_loss: 0.5500 - val_accuracy: 0.7865\n",
      "Epoch 4/10\n",
      "203/203 [==============================] - 4s 19ms/step - loss: 0.4750 - accuracy: 0.8674 - val_loss: 0.5131 - val_accuracy: 0.8106\n",
      "Epoch 5/10\n",
      "203/203 [==============================] - 4s 19ms/step - loss: 0.4200 - accuracy: 0.8987 - val_loss: 0.4860 - val_accuracy: 0.8205\n",
      "Epoch 6/10\n",
      "203/203 [==============================] - 4s 18ms/step - loss: 0.3781 - accuracy: 0.9221 - val_loss: 0.4645 - val_accuracy: 0.8261\n",
      "Epoch 7/10\n",
      "203/203 [==============================] - 4s 18ms/step - loss: 0.3420 - accuracy: 0.9346 - val_loss: 0.4471 - val_accuracy: 0.8304\n",
      "Epoch 8/10\n",
      "203/203 [==============================] - 4s 19ms/step - loss: 0.3132 - accuracy: 0.9465 - val_loss: 0.4323 - val_accuracy: 0.8329\n",
      "Epoch 9/10\n",
      "203/203 [==============================] - 4s 18ms/step - loss: 0.2873 - accuracy: 0.9549 - val_loss: 0.4198 - val_accuracy: 0.8416\n",
      "Epoch 10/10\n",
      "203/203 [==============================] - 4s 19ms/step - loss: 0.2678 - accuracy: 0.9628 - val_loss: 0.4092 - val_accuracy: 0.8465\n"
     ]
    }
   ],
   "source": [
    "binary_model = tf.keras.Sequential([layers.Dense(4)])\n",
    "binary_model.compile(\n",
    "    loss=losses.SparseCategoricalCrossentropy(from_logits=True),\n",
    "    optimizer='adam',\n",
    "    metrics=['accuracy'])\n",
    "history = binary_model.fit(\n",
    "    binary_train_ds, validation_data=binary_val_ds, epochs=10)"
   ]
  },
  {
   "cell_type": "code",
   "execution_count": 104,
   "metadata": {},
   "outputs": [],
   "source": [
    "def create_model(vocab_size, num_labels):\n",
    "  model = tf.keras.Sequential([\n",
    "      layers.Embedding(vocab_size, 64, mask_zero=True),\n",
    "      layers.Conv1D(64, 5, padding=\"valid\", activation=\"relu\", strides=2),\n",
    "      layers.GlobalMaxPooling1D(),\n",
    "      layers.Dense(num_labels)\n",
    "  ])\n",
    "  return model"
   ]
  },
  {
   "cell_type": "code",
   "execution_count": 105,
   "metadata": {},
   "outputs": [
    {
     "output_type": "stream",
     "name": "stdout",
     "text": [
      "Epoch 1/5\n",
      "203/203 [==============================] - 5s 22ms/step - loss: 0.8698 - accuracy: 0.6432 - val_loss: 0.5910 - val_accuracy: 0.6751\n",
      "Epoch 2/5\n",
      "203/203 [==============================] - 5s 22ms/step - loss: 0.5018 - accuracy: 0.7471 - val_loss: 0.3679 - val_accuracy: 0.8391\n",
      "Epoch 3/5\n",
      "203/203 [==============================] - 5s 22ms/step - loss: 0.1875 - accuracy: 0.9381 - val_loss: 0.3528 - val_accuracy: 0.8441\n",
      "Epoch 4/5\n",
      "203/203 [==============================] - 5s 22ms/step - loss: 0.0516 - accuracy: 0.9886 - val_loss: 0.3663 - val_accuracy: 0.8546\n",
      "Epoch 5/5\n",
      "203/203 [==============================] - 5s 22ms/step - loss: 0.0124 - accuracy: 0.9987 - val_loss: 0.4001 - val_accuracy: 0.8490\n"
     ]
    }
   ],
   "source": [
    "# vocab_size is VOCAB_SIZE + 1 since 0 is used additionally for padding.\n",
    "int_model = create_model(vocab_size=VOCAB_SIZE + 1, num_labels=4)\n",
    "int_model.compile(\n",
    "    loss=losses.SparseCategoricalCrossentropy(from_logits=True),\n",
    "    optimizer='adam',\n",
    "    metrics=['accuracy'])\n",
    "history = int_model.fit(int_train_ds, validation_data=int_val_ds, epochs=5)"
   ]
  },
  {
   "cell_type": "code",
   "execution_count": 106,
   "metadata": {},
   "outputs": [
    {
     "output_type": "stream",
     "name": "stdout",
     "text": [
      "Linear model on binary vectorized data:\nModel: \"sequential\"\n_________________________________________________________________\nLayer (type)                 Output Shape              Param #   \n=================================================================\ndense (Dense)                (None, 4)                 40004     \n=================================================================\nTotal params: 40,004\nTrainable params: 40,004\nNon-trainable params: 0\n_________________________________________________________________\nNone\n"
     ]
    }
   ],
   "source": [
    "print(\"Linear model on binary vectorized data:\")\n",
    "print(binary_model.summary())"
   ]
  },
  {
   "cell_type": "code",
   "execution_count": 107,
   "metadata": {},
   "outputs": [
    {
     "output_type": "stream",
     "name": "stdout",
     "text": [
      "ConvNet model on int vectorized data:\nModel: \"sequential_1\"\n_________________________________________________________________\nLayer (type)                 Output Shape              Param #   \n=================================================================\nembedding (Embedding)        (None, None, 64)          640064    \n_________________________________________________________________\nconv1d (Conv1D)              (None, None, 64)          20544     \n_________________________________________________________________\nglobal_max_pooling1d (Global (None, 64)                0         \n_________________________________________________________________\ndense_1 (Dense)              (None, 4)                 260       \n=================================================================\nTotal params: 660,868\nTrainable params: 660,868\nNon-trainable params: 0\n_________________________________________________________________\nNone\n"
     ]
    }
   ],
   "source": [
    "print(\"ConvNet model on int vectorized data:\")\n",
    "print(int_model.summary())"
   ]
  },
  {
   "cell_type": "code",
   "execution_count": 108,
   "metadata": {},
   "outputs": [
    {
     "output_type": "stream",
     "name": "stdout",
     "text": [
      "253/253 [==============================] - 4s 14ms/step - loss: 0.2742 - accuracy: 0.9491\n",
      "253/253 [==============================] - 4s 14ms/step - loss: 0.0833 - accuracy: 0.9698\n",
      "Binary model accuracy: 94.91%\n",
      "Int model accuracy: 96.98%\n"
     ]
    }
   ],
   "source": [
    "binary_loss, binary_accuracy = binary_model.evaluate(binary_test_ds)\n",
    "int_loss, int_accuracy = int_model.evaluate(int_test_ds)\n",
    "\n",
    "print(\"Binary model accuracy: {:2.2%}\".format(binary_accuracy))\n",
    "print(\"Int model accuracy: {:2.2%}\".format(int_accuracy))"
   ]
  },
  {
   "cell_type": "code",
   "execution_count": 109,
   "metadata": {},
   "outputs": [
    {
     "output_type": "stream",
     "name": "stdout",
     "text": [
      "253/253 [==============================] - 4s 14ms/step - loss: 0.2764 - accuracy: 0.9465\n",
      "Accuracy: 94.91%\n"
     ]
    }
   ],
   "source": [
    "export_model = tf.keras.Sequential(\n",
    "    [binary_vectorize_layer, binary_model,\n",
    "     layers.Activation('sigmoid')])\n",
    "\n",
    "export_model.compile(\n",
    "    loss=losses.SparseCategoricalCrossentropy(from_logits=False),\n",
    "    optimizer='adam',\n",
    "    metrics=['accuracy'])\n",
    "\n",
    "# Test it with `raw_test_ds`, which yields raw strings\n",
    "loss, accuracy = export_model.evaluate(raw_test_ds)\n",
    "print(\"Accuracy: {:2.2%}\".format(binary_accuracy))"
   ]
  },
  {
   "cell_type": "code",
   "execution_count": 110,
   "metadata": {},
   "outputs": [],
   "source": [
    "def get_string_labels(predicted_scores_batch):\n",
    "  predicted_int_labels = tf.argmax(predicted_scores_batch, axis=1)\n",
    "  predicted_labels = tf.gather(raw_train_ds.class_names, predicted_int_labels)\n",
    "  return predicted_labels"
   ]
  },
  {
   "cell_type": "code",
   "execution_count": 126,
   "metadata": {},
   "outputs": [
    {
     "output_type": "stream",
     "name": "stdout",
     "text": [
      "Question:  covid 19 was the best thing that ever happend to me\nPredicted label:  b'pos'\nQuestion:  Death is everywhere\nPredicted label:  b'neg'\nQuestion:  loved it from start to finish\nPredicted label:  b'pos'\nQuestion:  covid 19 killed my cat\nPredicted label:  b'neg'\nQuestion:  trump is full of hatred and killing\nPredicted label:  b'neg'\nQuestion:  trump is full of hatred and killing\nPredicted label:  b'neg'\n"
     ]
    }
   ],
   "source": [
    "inputs = [\n",
    "    \"covid 19 was the best thing that ever happend to me\",  # pos\n",
    "    \"Death is everywhere\",  # neg\n",
    "    \"loved it from start to finish\",  # pos\n",
    "    \"covid 19 killed my cat\",  # neg\n",
    "    \"trump is full of hatred and killing\",  # neg\n",
    "    \"trump is full of hatred and killing\",  # neg\n",
    "]\n",
    "predicted_scores = export_model.predict(inputs)\n",
    "predicted_labels = get_string_labels(predicted_scores)\n",
    "for input, label in zip(inputs, predicted_labels):\n",
    "  print(\"Question: \", input)\n",
    "  print(\"Predicted label: \", label.numpy())"
   ]
  },
  {
   "cell_type": "code",
   "execution_count": null,
   "metadata": {},
   "outputs": [],
   "source": []
  }
 ],
 "metadata": {
  "kernelspec": {
   "display_name": "Python 3",
   "language": "python",
   "name": "python3"
  },
  "language_info": {
   "codemirror_mode": {
    "name": "ipython",
    "version": 3
   },
   "file_extension": ".py",
   "mimetype": "text/x-python",
   "name": "python",
   "nbconvert_exporter": "python",
   "pygments_lexer": "ipython3",
   "version": "3.8.3-final"
  }
 },
 "nbformat": 4,
 "nbformat_minor": 4
}